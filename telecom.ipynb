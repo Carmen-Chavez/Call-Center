{
 "cells": [
  {
   "cell_type": "markdown",
   "id": "13a22214-6242-44f5-8340-d8a8e16f264f",
   "metadata": {},
   "source": [
    "Hola **Carmen**!\n",
    "\n",
    "Soy **Patricio Requena** 👋. Es un placer ser el revisor de tu proyecto el día de hoy!\n",
    "\n",
    "Revisaré tu proyecto detenidamente con el objetivo de ayudarte a mejorar y perfeccionar tus habilidades. Durante mi revisión, identificaré áreas donde puedas hacer mejoras en tu código, señalando específicamente qué y cómo podrías ajustar para optimizar el rendimiento y la claridad de tu proyecto. Además, es importante para mí destacar los aspectos que has manejado excepcionalmente bien. Reconocer tus fortalezas te ayudará a entender qué técnicas y métodos están funcionando a tu favor y cómo puedes aplicarlos en futuras tareas. \n",
    "\n",
    "_**Recuerda que al final de este notebook encontrarás un comentario general de mi parte**_, empecemos!\n",
    "\n",
    "Encontrarás mis comentarios dentro de cajas verdes, amarillas o rojas, ⚠️ **por favor, no muevas, modifiques o borres mis comentarios** ⚠️:\n",
    "\n",
    "\n",
    "<div class=\"alert alert-block alert-success\">\n",
    "<b>Comentario del revisor</b> <a class=“tocSkip”></a>\n",
    "Si todo está perfecto.\n",
    "</div>\n",
    "\n",
    "<div class=\"alert alert-block alert-warning\">\n",
    "<b>Comentario del revisor</b> <a class=“tocSkip”></a>\n",
    "Si tu código está bien pero se puede mejorar o hay algún detalle que le hace falta.\n",
    "</div>\n",
    "\n",
    "<div class=\"alert alert-block alert-danger\">\n",
    "<b>Comentario del revisor</b> <a class=“tocSkip”></a>\n",
    "Si de pronto hace falta algo o existe algún problema con tu código o conclusiones.\n",
    "</div>\n",
    "\n",
    "Puedes responderme de esta forma:\n",
    "<div class=\"alert alert-block alert-info\">\n",
    "<b>Respuesta del estudiante</b> <a class=“tocSkip”></a>\n",
    "</div>"
   ]
  },
  {
   "cell_type": "markdown",
   "id": "0474b049-745d-40f4-ade4-27a72ca16817",
   "metadata": {},
   "source": [
    "# Proyecto final 4: Telecomunicaciones"
   ]
  },
  {
   "cell_type": "markdown",
   "id": "616a9f91-a653-40dc-a3ba-b4d7dceade42",
   "metadata": {},
   "source": [
    "Objetivo: Identificar operadores ineficaces"
   ]
  },
  {
   "cell_type": "markdown",
   "id": "909aaf95-1edd-424d-95c0-fbd9bf468f48",
   "metadata": {},
   "source": [
    "El servicio de telefonía virtual CallMeMaybe está desarrollando una nueva función que brindará a los supervisores y las supervisores información sobre los operadores menos eficaces. Se considera que un operador es ineficaz si tiene una gran cantidad de llamadas entrantes perdidas (internas y externas) y un tiempo de espera prolongado para las llamadas entrantes. Además, si se supone que un operador debe realizar llamadas salientes, un número reducido de ellas también será un signo de ineficacia.\n",
    "\n",
    "- Lleva a cabo el análisis exploratorio de datos\n",
    "- Identificar operadores ineficaces\n",
    "- Prueba las hipótesis estadísticas\n",
    "\n",
    "El dataset `telecom_dataset_us.csv` contiene las siguientes columnas:\n",
    "\n",
    "- `user_id`: ID de la cuenta de cliente\n",
    "- `date`: fecha en la que se recuperaron las estadísticas\n",
    "- `direction`: \"dirección\" de llamada (`out` para saliente, `in` para entrante)\n",
    "- `internal`: si la llamada fue interna (entre los operadores de un cliente o clienta)\n",
    "- `operator_id`: identificador del operador\n",
    "- `is_missed_call`: si fue una llamada perdida\n",
    "- `calls_count`: número de llamadas\n",
    "- `call_duration`: duración de la llamada (sin incluir el tiempo de espera)\n",
    "- `total_call_duration`: duración de la llamada (incluido el tiempo de espera)\n",
    "\n",
    " El conjunto de datos `telecom_clients_us.csv` tiene las siguientes columnas:\n",
    "\n",
    "- `user_id`: ID de usuario/a\n",
    "- `tariff_plan`: tarifa actual de la clientela\n",
    "- `date_start`: fecha de registro de la clientela\n"
   ]
  },
  {
   "cell_type": "markdown",
   "id": "034120fe-3fa8-4ca3-abab-af88ea839662",
   "metadata": {},
   "source": [
    "## Descarga de datos"
   ]
  },
  {
   "cell_type": "markdown",
   "id": "d2678ee3-cc33-4a5e-9c28-71fbe7134fe1",
   "metadata": {},
   "source": [
    "### Importar librerias"
   ]
  },
  {
   "cell_type": "code",
   "execution_count": 2,
   "id": "01eab548",
   "metadata": {},
   "outputs": [],
   "source": [
    "import pandas as pd\n",
    "import datetime as dt\n",
    "import numpy as np\n",
    "import matplotlib.pyplot as plt\n",
    "from scipy.stats import mannwhitneyu"
   ]
  },
  {
   "cell_type": "markdown",
   "id": "9691002d-2ac1-4404-829a-63cde76365b4",
   "metadata": {},
   "source": [
    "### Leer archivos"
   ]
  },
  {
   "cell_type": "code",
   "execution_count": 3,
   "id": "fb62105a",
   "metadata": {},
   "outputs": [],
   "source": [
    "clients = pd.read_csv('/datasets/telecom_clients_us.csv') \n",
    "dataset = pd.read_csv('/datasets/telecom_dataset_us.csv')"
   ]
  },
  {
   "cell_type": "markdown",
   "id": "145cd42b-06dc-4b8b-aa6d-bc431717bc85",
   "metadata": {},
   "source": [
    "## Análisis exploratorio"
   ]
  },
  {
   "cell_type": "markdown",
   "id": "f3b8e258-7153-40cd-b5b4-11aa37f2fb23",
   "metadata": {},
   "source": [
    "### Explorar y preprocesar _clients_"
   ]
  },
  {
   "cell_type": "code",
   "execution_count": 4,
   "id": "b4373872",
   "metadata": {},
   "outputs": [
    {
     "data": {
      "text/html": [
       "<div>\n",
       "<style scoped>\n",
       "    .dataframe tbody tr th:only-of-type {\n",
       "        vertical-align: middle;\n",
       "    }\n",
       "\n",
       "    .dataframe tbody tr th {\n",
       "        vertical-align: top;\n",
       "    }\n",
       "\n",
       "    .dataframe thead th {\n",
       "        text-align: right;\n",
       "    }\n",
       "</style>\n",
       "<table border=\"1\" class=\"dataframe\">\n",
       "  <thead>\n",
       "    <tr style=\"text-align: right;\">\n",
       "      <th></th>\n",
       "      <th>user_id</th>\n",
       "      <th>tariff_plan</th>\n",
       "      <th>date_start</th>\n",
       "    </tr>\n",
       "  </thead>\n",
       "  <tbody>\n",
       "    <tr>\n",
       "      <th>0</th>\n",
       "      <td>166713</td>\n",
       "      <td>A</td>\n",
       "      <td>2019-08-15</td>\n",
       "    </tr>\n",
       "    <tr>\n",
       "      <th>1</th>\n",
       "      <td>166901</td>\n",
       "      <td>A</td>\n",
       "      <td>2019-08-23</td>\n",
       "    </tr>\n",
       "    <tr>\n",
       "      <th>2</th>\n",
       "      <td>168527</td>\n",
       "      <td>A</td>\n",
       "      <td>2019-10-29</td>\n",
       "    </tr>\n",
       "    <tr>\n",
       "      <th>3</th>\n",
       "      <td>167097</td>\n",
       "      <td>A</td>\n",
       "      <td>2019-09-01</td>\n",
       "    </tr>\n",
       "    <tr>\n",
       "      <th>4</th>\n",
       "      <td>168193</td>\n",
       "      <td>A</td>\n",
       "      <td>2019-10-16</td>\n",
       "    </tr>\n",
       "  </tbody>\n",
       "</table>\n",
       "</div>"
      ],
      "text/plain": [
       "   user_id tariff_plan  date_start\n",
       "0   166713           A  2019-08-15\n",
       "1   166901           A  2019-08-23\n",
       "2   168527           A  2019-10-29\n",
       "3   167097           A  2019-09-01\n",
       "4   168193           A  2019-10-16"
      ]
     },
     "execution_count": 4,
     "metadata": {},
     "output_type": "execute_result"
    }
   ],
   "source": [
    "clients.head()"
   ]
  },
  {
   "cell_type": "code",
   "execution_count": 5,
   "id": "9bd3f9ce",
   "metadata": {},
   "outputs": [],
   "source": [
    "clients['date_start']=pd.to_datetime(clients['date_start'])"
   ]
  },
  {
   "cell_type": "code",
   "execution_count": 6,
   "id": "0492002c",
   "metadata": {},
   "outputs": [],
   "source": [
    "#De entero a object\n",
    "clients['user_id'] = clients['user_id'].astype('str')"
   ]
  },
  {
   "cell_type": "code",
   "execution_count": 7,
   "id": "c5715489",
   "metadata": {},
   "outputs": [
    {
     "name": "stdout",
     "output_type": "stream",
     "text": [
      "<class 'pandas.core.frame.DataFrame'>\n",
      "RangeIndex: 732 entries, 0 to 731\n",
      "Data columns (total 3 columns):\n",
      " #   Column       Non-Null Count  Dtype         \n",
      "---  ------       --------------  -----         \n",
      " 0   user_id      732 non-null    object        \n",
      " 1   tariff_plan  732 non-null    object        \n",
      " 2   date_start   732 non-null    datetime64[ns]\n",
      "dtypes: datetime64[ns](1), object(2)\n",
      "memory usage: 17.3+ KB\n"
     ]
    }
   ],
   "source": [
    "clients.info()"
   ]
  },
  {
   "cell_type": "markdown",
   "id": "86375860",
   "metadata": {},
   "source": [
    "### Explorar y preprocesar _dataset_"
   ]
  },
  {
   "cell_type": "code",
   "execution_count": 8,
   "id": "bed43129",
   "metadata": {},
   "outputs": [
    {
     "data": {
      "text/html": [
       "<div>\n",
       "<style scoped>\n",
       "    .dataframe tbody tr th:only-of-type {\n",
       "        vertical-align: middle;\n",
       "    }\n",
       "\n",
       "    .dataframe tbody tr th {\n",
       "        vertical-align: top;\n",
       "    }\n",
       "\n",
       "    .dataframe thead th {\n",
       "        text-align: right;\n",
       "    }\n",
       "</style>\n",
       "<table border=\"1\" class=\"dataframe\">\n",
       "  <thead>\n",
       "    <tr style=\"text-align: right;\">\n",
       "      <th></th>\n",
       "      <th>user_id</th>\n",
       "      <th>date</th>\n",
       "      <th>direction</th>\n",
       "      <th>internal</th>\n",
       "      <th>operator_id</th>\n",
       "      <th>is_missed_call</th>\n",
       "      <th>calls_count</th>\n",
       "      <th>call_duration</th>\n",
       "      <th>total_call_duration</th>\n",
       "    </tr>\n",
       "  </thead>\n",
       "  <tbody>\n",
       "    <tr>\n",
       "      <th>0</th>\n",
       "      <td>166377</td>\n",
       "      <td>2019-08-04 00:00:00+03:00</td>\n",
       "      <td>in</td>\n",
       "      <td>False</td>\n",
       "      <td>NaN</td>\n",
       "      <td>True</td>\n",
       "      <td>2</td>\n",
       "      <td>0</td>\n",
       "      <td>4</td>\n",
       "    </tr>\n",
       "    <tr>\n",
       "      <th>1</th>\n",
       "      <td>166377</td>\n",
       "      <td>2019-08-05 00:00:00+03:00</td>\n",
       "      <td>out</td>\n",
       "      <td>True</td>\n",
       "      <td>880022.0</td>\n",
       "      <td>True</td>\n",
       "      <td>3</td>\n",
       "      <td>0</td>\n",
       "      <td>5</td>\n",
       "    </tr>\n",
       "    <tr>\n",
       "      <th>2</th>\n",
       "      <td>166377</td>\n",
       "      <td>2019-08-05 00:00:00+03:00</td>\n",
       "      <td>out</td>\n",
       "      <td>True</td>\n",
       "      <td>880020.0</td>\n",
       "      <td>True</td>\n",
       "      <td>1</td>\n",
       "      <td>0</td>\n",
       "      <td>1</td>\n",
       "    </tr>\n",
       "    <tr>\n",
       "      <th>3</th>\n",
       "      <td>166377</td>\n",
       "      <td>2019-08-05 00:00:00+03:00</td>\n",
       "      <td>out</td>\n",
       "      <td>True</td>\n",
       "      <td>880020.0</td>\n",
       "      <td>False</td>\n",
       "      <td>1</td>\n",
       "      <td>10</td>\n",
       "      <td>18</td>\n",
       "    </tr>\n",
       "    <tr>\n",
       "      <th>4</th>\n",
       "      <td>166377</td>\n",
       "      <td>2019-08-05 00:00:00+03:00</td>\n",
       "      <td>out</td>\n",
       "      <td>False</td>\n",
       "      <td>880022.0</td>\n",
       "      <td>True</td>\n",
       "      <td>3</td>\n",
       "      <td>0</td>\n",
       "      <td>25</td>\n",
       "    </tr>\n",
       "  </tbody>\n",
       "</table>\n",
       "</div>"
      ],
      "text/plain": [
       "   user_id                       date direction internal  operator_id  \\\n",
       "0   166377  2019-08-04 00:00:00+03:00        in    False          NaN   \n",
       "1   166377  2019-08-05 00:00:00+03:00       out     True     880022.0   \n",
       "2   166377  2019-08-05 00:00:00+03:00       out     True     880020.0   \n",
       "3   166377  2019-08-05 00:00:00+03:00       out     True     880020.0   \n",
       "4   166377  2019-08-05 00:00:00+03:00       out    False     880022.0   \n",
       "\n",
       "   is_missed_call  calls_count  call_duration  total_call_duration  \n",
       "0            True            2              0                    4  \n",
       "1            True            3              0                    5  \n",
       "2            True            1              0                    1  \n",
       "3           False            1             10                   18  \n",
       "4            True            3              0                   25  "
      ]
     },
     "execution_count": 8,
     "metadata": {},
     "output_type": "execute_result"
    }
   ],
   "source": [
    "dataset.head()"
   ]
  },
  {
   "cell_type": "code",
   "execution_count": 9,
   "id": "6f623125",
   "metadata": {},
   "outputs": [],
   "source": [
    "#Convertir a formato fecha\n",
    "dataset['date'] = pd.to_datetime(dataset['date'])"
   ]
  },
  {
   "cell_type": "code",
   "execution_count": 10,
   "id": "1eaf2be5",
   "metadata": {},
   "outputs": [],
   "source": [
    "#De float a object\n",
    "dataset['operator_id'] = dataset['operator_id'].astype('str')"
   ]
  },
  {
   "cell_type": "code",
   "execution_count": 11,
   "id": "e048ea71",
   "metadata": {},
   "outputs": [],
   "source": [
    "#De entero a objet\n",
    "dataset['user_id'] = dataset['user_id'].astype('str')"
   ]
  },
  {
   "cell_type": "code",
   "execution_count": 12,
   "id": "5b80cfcb-bd72-477e-8097-2923ba2bacd7",
   "metadata": {},
   "outputs": [
    {
     "data": {
      "text/plain": [
       "user_id                  0\n",
       "date                     0\n",
       "direction                0\n",
       "internal               117\n",
       "operator_id              0\n",
       "is_missed_call           0\n",
       "calls_count              0\n",
       "call_duration            0\n",
       "total_call_duration      0\n",
       "dtype: int64"
      ]
     },
     "execution_count": 12,
     "metadata": {},
     "output_type": "execute_result"
    }
   ],
   "source": [
    "# Contar NaN por columna\n",
    "dataset.isnull().sum()"
   ]
  },
  {
   "cell_type": "code",
   "execution_count": 13,
   "id": "2783bced-e2de-41a7-9a39-1baa0d228a66",
   "metadata": {},
   "outputs": [
    {
     "data": {
      "text/plain": [
       "user_id                0.000000\n",
       "date                   0.000000\n",
       "direction              0.000000\n",
       "internal               0.217061\n",
       "operator_id            0.000000\n",
       "is_missed_call         0.000000\n",
       "calls_count            0.000000\n",
       "call_duration          0.000000\n",
       "total_call_duration    0.000000\n",
       "dtype: float64"
      ]
     },
     "execution_count": 13,
     "metadata": {},
     "output_type": "execute_result"
    }
   ],
   "source": [
    "# Porcentaje de valores faltantes\n",
    "(dataset.isnull().sum() / len(dataset)) * 100"
   ]
  },
  {
   "cell_type": "code",
   "execution_count": 14,
   "id": "8ea989a6",
   "metadata": {},
   "outputs": [
    {
     "name": "stdout",
     "output_type": "stream",
     "text": [
      "<class 'pandas.core.frame.DataFrame'>\n",
      "RangeIndex: 53902 entries, 0 to 53901\n",
      "Data columns (total 9 columns):\n",
      " #   Column               Non-Null Count  Dtype                                \n",
      "---  ------               --------------  -----                                \n",
      " 0   user_id              53902 non-null  object                               \n",
      " 1   date                 53902 non-null  datetime64[ns, pytz.FixedOffset(180)]\n",
      " 2   direction            53902 non-null  object                               \n",
      " 3   internal             53785 non-null  object                               \n",
      " 4   operator_id          53902 non-null  object                               \n",
      " 5   is_missed_call       53902 non-null  bool                                 \n",
      " 6   calls_count          53902 non-null  int64                                \n",
      " 7   call_duration        53902 non-null  int64                                \n",
      " 8   total_call_duration  53902 non-null  int64                                \n",
      "dtypes: bool(1), datetime64[ns, pytz.FixedOffset(180)](1), int64(3), object(4)\n",
      "memory usage: 3.3+ MB\n"
     ]
    }
   ],
   "source": [
    "dataset.info()"
   ]
  },
  {
   "cell_type": "markdown",
   "id": "521bfff2",
   "metadata": {},
   "source": [
    "### Data wrangling"
   ]
  },
  {
   "cell_type": "markdown",
   "id": "7eab9108",
   "metadata": {},
   "source": [
    "Crear columna para total de llamadas entrantes perdidas (internas y externas) por operador"
   ]
  },
  {
   "cell_type": "code",
   "execution_count": 15,
   "id": "1def3783",
   "metadata": {},
   "outputs": [],
   "source": [
    "#Todos los true convertirlos a 1 para despues sumarlos\n",
    "dataset['cnt_missed_true'] = dataset['is_missed_call'].map({True: 1, False: 0})"
   ]
  },
  {
   "cell_type": "markdown",
   "id": "62c62f7f",
   "metadata": {},
   "source": [
    "Crear columna para tiempo de espera en llamadas entrantes por operador"
   ]
  },
  {
   "cell_type": "code",
   "execution_count": 16,
   "id": "797f8d01",
   "metadata": {},
   "outputs": [],
   "source": [
    "dataset['waiting_calls'] = dataset['total_call_duration'] - dataset['call_duration']"
   ]
  },
  {
   "cell_type": "markdown",
   "id": "faf399cc",
   "metadata": {},
   "source": [
    "Crear columna de llamadas salientes y entrantes"
   ]
  },
  {
   "cell_type": "code",
   "execution_count": 17,
   "id": "2cf90269",
   "metadata": {},
   "outputs": [],
   "source": [
    "# Columna para contar llamadas entrantes (in) entrantes\n",
    "dataset['cnt_direction_in'] = np.where(dataset['direction'] == 'in', 1, 0)"
   ]
  },
  {
   "cell_type": "code",
   "execution_count": 18,
   "id": "0f4920c1",
   "metadata": {},
   "outputs": [],
   "source": [
    "# Columna para contar llamadas salientes (out) salientes\n",
    "dataset['cnt_direction_out'] = np.where(dataset['direction'] == 'out', 1, 0)"
   ]
  },
  {
   "cell_type": "markdown",
   "id": "c50b7535-a15d-4e78-aee4-d3a002b76cbc",
   "metadata": {},
   "source": [
    "## Análisis Estadísticos"
   ]
  },
  {
   "cell_type": "markdown",
   "id": "e4b8ce82-d720-46ce-b9e8-52117b390cb9",
   "metadata": {},
   "source": [
    "<div class=\"alert alert-block alert-success\">\n",
    "<b>Comentario del revisor (1ra Iteracion)</b> <a class=“tocSkip”></a>\n",
    "\n",
    "Muy bien realizado el análisis inicial y el tratamiento de los dataset previo a su exploración, siempre hay que buscar tener la mejor calidad posible en tus datos\n",
    "</div>"
   ]
  },
  {
   "cell_type": "markdown",
   "id": "3ae75078-140a-4f6f-8c10-457fd42bce20",
   "metadata": {},
   "source": [
    "### Estadística descriptiva"
   ]
  },
  {
   "cell_type": "markdown",
   "id": "16653944-e65a-4f27-9826-d3167a515009",
   "metadata": {},
   "source": [
    "Calcular llamadas promedio por operador"
   ]
  },
  {
   "cell_type": "code",
   "execution_count": 19,
   "id": "18c1de98-3d6a-4891-8d7e-bafa7696f72a",
   "metadata": {},
   "outputs": [
    {
     "data": {
      "text/plain": [
       "count    1093.000000\n",
       "mean       11.805847\n",
       "std        25.990752\n",
       "min         1.000000\n",
       "25%         1.600000\n",
       "50%         3.000000\n",
       "75%         9.589744\n",
       "max       351.028571\n",
       "Name: calls_count, dtype: float64"
      ]
     },
     "execution_count": 19,
     "metadata": {},
     "output_type": "execute_result"
    }
   ],
   "source": [
    "promedio_llamadas_por_operador = dataset.groupby('operator_id')['calls_count'].mean()\n",
    "promedio_llamadas_por_operador.describe()"
   ]
  },
  {
   "cell_type": "markdown",
   "id": "8cb59982-5dd9-41e5-816a-aa2d54b99114",
   "metadata": {},
   "source": [
    "Observamos 1093 operadores, con un promedio de 12 llamadas por operador, siendo 1 llamada como minima y 351 llamadas como máximo. Esta diferencia tan grande entre operadores lo podemos ver tambien reflejada en la desviación estandar elevada con respecto a la media (std 25.99)."
   ]
  },
  {
   "cell_type": "code",
   "execution_count": 20,
   "id": "2fcf5279-549e-4d7e-afa4-4cfd1b3dd1c9",
   "metadata": {},
   "outputs": [
    {
     "data": {
      "image/png": "[encoded data removed]",
      "text/plain": [
       "<Figure size 1200x600 with 1 Axes>"
      ]
     },
     "metadata": {},
     "output_type": "display_data"
    }
   ],
   "source": [
    "# Histograma básico\n",
    "plt.figure(figsize=(12, 6))\n",
    "plt.hist(promedio_llamadas_por_operador, bins=35, alpha=0.7, edgecolor='black')\n",
    "plt.xlabel('Promedio de Llamadas')\n",
    "plt.ylabel('Número de registros')\n",
    "plt.title('Distribución del Promedio de Llamadas por Operador')\n",
    "plt.show()"
   ]
  },
  {
   "cell_type": "markdown",
   "id": "a4fda3e6-9f09-4a6f-a3c3-b57016da89d8",
   "metadata": {},
   "source": [
    "Distribucion del número promedio de llamadas por operador. El pico concentra valores bajos, una gran cantidad de operadores tienen un promedio de llamadas bajo, ya que el percentil 75 tiene un promedio de 9.58%."
   ]
  },
  {
   "cell_type": "markdown",
   "id": "accbeb7e",
   "metadata": {},
   "source": [
    "Calcular el promedio de llamadas perdidas por operador"
   ]
  },
  {
   "cell_type": "code",
   "execution_count": 21,
   "id": "a4fd5bcc",
   "metadata": {},
   "outputs": [
    {
     "name": "stdout",
     "output_type": "stream",
     "text": [
      "Promedio de llamadas perdidas por operador:\n",
      "operator_id\n",
      "879896.0    0.390625\n",
      "879898.0    0.398406\n",
      "880020.0    0.318182\n",
      "880022.0    0.434211\n",
      "880026.0    0.474747\n",
      "              ...   \n",
      "972412.0    0.400000\n",
      "972460.0    0.333333\n",
      "973120.0    0.500000\n",
      "973286.0    0.000000\n",
      "nan         0.985071\n",
      "Name: cnt_missed_true, Length: 1093, dtype: float64\n"
     ]
    }
   ],
   "source": [
    "# Calcular el promedio de llamadas perdidas por operador\n",
    "promedio_perdidas = dataset.groupby('operator_id')['cnt_missed_true'].mean()\n",
    "\n",
    "print(\"Promedio de llamadas perdidas por operador:\")\n",
    "print(promedio_perdidas)"
   ]
  },
  {
   "cell_type": "code",
   "execution_count": 22,
   "id": "f645090e",
   "metadata": {},
   "outputs": [
    {
     "name": "stdout",
     "output_type": "stream",
     "text": [
      "Estadísticas del promedio de llamadas perdidas:\n",
      "\n",
      "count    1093.000000\n",
      "mean        0.314918\n",
      "std         0.232146\n",
      "min         0.000000\n",
      "25%         0.125000\n",
      "50%         0.333333\n",
      "75%         0.461538\n",
      "max         1.000000\n",
      "Name: cnt_missed_true, dtype: float64\n"
     ]
    }
   ],
   "source": [
    "print(\"Estadísticas del promedio de llamadas perdidas:\")\n",
    "print('')\n",
    "print(promedio_perdidas.describe())"
   ]
  },
  {
   "cell_type": "markdown",
   "id": "6be15618-64a0-4c6e-b3bf-7f6ba4831ead",
   "metadata": {},
   "source": [
    "Tenemos 1093 operadores telefonicos, el promedio de llamadas perdidas por operador es de 0.3149, esto es que se pierden el 31% de las llamadas.\n",
    "La desviación estandar es solo un poco menor a la media, por lo que la variación es moderada-alta, esto nos puede indicar que unos operadores tienen muchas llamadas perdidas y otros muy pocas y se observa en el mínimo 0 y  máximo 1, esto es que hay operadores que perdieron todas sus llamadas y otros que nínguna.\n",
    "Parece que hay una gran variación en el desempeño de los operadores. Algunos son muy eficientes (0% de llamadas perdidas) mientras que otros tienen hasta 100% de llamadas perdidas."
   ]
  },
  {
   "cell_type": "code",
   "execution_count": 23,
   "id": "2e43e147",
   "metadata": {},
   "outputs": [
    {
     "name": "stdout",
     "output_type": "stream",
     "text": [
      "             cnt_missed_true_mean  cnt_missed_true_sum  cnt_missed_true_count  \\\n",
      "operator_id                                                                     \n",
      "879896.0                    0.391                   50                    128   \n",
      "879898.0                    0.398                  100                    251   \n",
      "880020.0                    0.318                    7                     22   \n",
      "880022.0                    0.434                   33                     76   \n",
      "880026.0                    0.475                   94                    198   \n",
      "...                           ...                  ...                    ...   \n",
      "972412.0                    0.400                    2                      5   \n",
      "972460.0                    0.333                    3                      9   \n",
      "973120.0                    0.500                    1                      2   \n",
      "973286.0                    0.000                    0                      1   \n",
      "nan                         0.985                 8050                   8172   \n",
      "\n",
      "             cnt_direction_in_sum  cnt_direction_out_sum  \n",
      "operator_id                                               \n",
      "879896.0                       23                    105  \n",
      "879898.0                       64                    187  \n",
      "880020.0                        8                     14  \n",
      "880022.0                        8                     68  \n",
      "880026.0                       19                    179  \n",
      "...                           ...                    ...  \n",
      "972412.0                        1                      4  \n",
      "972460.0                        2                      7  \n",
      "973120.0                        0                      2  \n",
      "973286.0                        1                      0  \n",
      "nan                          7972                    200  \n",
      "\n",
      "[1093 rows x 5 columns]\n"
     ]
    }
   ],
   "source": [
    "# Análisis más detallado de las llamadas perdidas por operador telefonico\n",
    "resultado_completo = dataset.groupby('operator_id').agg({\n",
    "    'cnt_missed_true': ['mean', 'sum', 'count'],\n",
    "    'cnt_direction_in': 'sum',\n",
    "    'cnt_direction_out': 'sum'\n",
    "}).round(3)\n",
    "\n",
    "# Aplanar los nombres de columnas pora mejor manejo futuro\n",
    "resultado_completo.columns = ['_'.join(col).strip() for col in resultado_completo.columns]\n",
    "print(resultado_completo)"
   ]
  },
  {
   "cell_type": "raw",
   "id": "a8e0489e-0d2b-49c1-95a1-706278d593ab",
   "metadata": {},
   "source": [
    "Por operador:\n",
    "cnt_missed_true_mean = promedio de llamadas perdidas \n",
    "cnt_missed_true_sum = el total de llamadas perdidas\n",
    "cnt_missed_true_count = número de registros de llamadas\n",
    "cnt_direction_in_sum = el total de llamadas entrantes\n",
    "cnt_direction_out_sum = el total de llamadas salientes"
   ]
  },
  {
   "cell_type": "code",
   "execution_count": 24,
   "id": "2d7ce3a1-0b87-428f-91a3-39c1f3cac7db",
   "metadata": {},
   "outputs": [
    {
     "data": {
      "text/plain": [
       "0"
      ]
     },
     "execution_count": 24,
     "metadata": {},
     "output_type": "execute_result"
    }
   ],
   "source": [
    "# presento un nan como operador, corroborarlo\n",
    "dataset['operator_id'].isnull().sum()"
   ]
  },
  {
   "cell_type": "code",
   "execution_count": 25,
   "id": "65118a14-8fb1-42e6-b4da-36337531bb38",
   "metadata": {},
   "outputs": [
    {
     "name": "stdout",
     "output_type": "stream",
     "text": [
      "Valores únicos en operator_id:\n",
      "['nan' '880022.0' '880020.0' ... '952916.0' '959118.0' '957922.0']\n",
      "\n",
      "Tipo de datos: object\n"
     ]
    }
   ],
   "source": [
    "# Verificar qué tipos de datos únicos hay en operator_id\n",
    "print(\"Valores únicos en operator_id:\")\n",
    "print(dataset['operator_id'].unique())\n",
    "print(f\"\\nTipo de datos: {dataset['operator_id'].dtype}\")"
   ]
  },
  {
   "cell_type": "markdown",
   "id": "d7ea1f56-1406-43c0-8265-f2c56c539941",
   "metadata": {},
   "source": [
    "Tenemos un operador 'nan', esto es debido a que inicialmente la columna operator_id eran tipo entero y fue transformado a tipo string. Todas las llamadas perdidas que tiene 'nan' no fueron asignadas a ningun operador."
   ]
  },
  {
   "cell_type": "code",
   "execution_count": 26,
   "id": "a186e359-71cd-45e6-9a73-95edb921f102",
   "metadata": {},
   "outputs": [
    {
     "name": "stdout",
     "output_type": "stream",
     "text": [
      "Porcentaje de llamadas perdidas: 15.16%\n"
     ]
    }
   ],
   "source": [
    "# Calcular el porcentaje de llamadas perdidas\n",
    "total_llamadas = resultado_completo['cnt_missed_true_count'].sum()\n",
    "llamadas_perdidas = resultado_completo.loc['nan', 'cnt_missed_true_count']\n",
    "porcentaje_perdidas = (llamadas_perdidas / total_llamadas) * 100\n",
    "\n",
    "print(f\"Porcentaje de llamadas perdidas: {porcentaje_perdidas:.2f}%\")"
   ]
  },
  {
   "cell_type": "code",
   "execution_count": 27,
   "id": "43ed012f-a1fc-42ba-a775-1c45666b3945",
   "metadata": {},
   "outputs": [
    {
     "name": "stdout",
     "output_type": "stream",
     "text": [
      "NaN: 15.16%\n",
      "Operadores: 84.84%\n"
     ]
    }
   ],
   "source": [
    "#Pasos para hacer grafica de llamadas perdidas de nan vs operadores\n",
    "# Calcular los valores\n",
    "total_llamadas_perdidas = resultado_completo['cnt_missed_true_count'].sum()\n",
    "llamadas_perdidas_nan = resultado_completo.loc['nan', 'cnt_missed_true_count']\n",
    "llamadas_perdidas_operadores = total_llamadas_perdidas - llamadas_perdidas_nan\n",
    "\n",
    "# Calcular porcentajes\n",
    "porcentaje_nan = (llamadas_perdidas_nan / total_llamadas_perdidas) * 100\n",
    "porcentaje_operadores = (llamadas_perdidas_operadores / total_llamadas_perdidas) * 100\n",
    "\n",
    "print(f\"NaN: {porcentaje_nan:.2f}%\")\n",
    "print(f\"Operadores: {porcentaje_operadores:.2f}%\")"
   ]
  },
  {
   "cell_type": "markdown",
   "id": "4533953d-e30c-4348-9ee3-f48bd86b63b4",
   "metadata": {},
   "source": [
    "El 15.16% significa que de todas las llamadas que fueron marcadas como perdidas (cnt_missed_true_count), el 15.16% corresponden a llamadas que nunca fueron asignadas a ningún operador (el grupo \"nan\"). El 84.84% restante de las llamadas si fueron asignadas a un operador pero aún así se perdieron."
   ]
  },
  {
   "cell_type": "code",
   "execution_count": 28,
   "id": "af12a0d1-e2b9-4971-87cb-4391d2f938c9",
   "metadata": {},
   "outputs": [
    {
     "data": {
      "image/png": "[encoded data removed]",
      "text/plain": [
       "<Figure size 600x500 with 1 Axes>"
      ]
     },
     "metadata": {},
     "output_type": "display_data"
    }
   ],
   "source": [
    "# Datos para la gráfica\n",
    "etiquetas = ['Operadores Asignados', 'No Asignadas a Operadores (NaN)']\n",
    "valores = [llamadas_perdidas_operadores, llamadas_perdidas_nan]\n",
    "porcentajes = [porcentaje_operadores, porcentaje_nan]\n",
    "colores = ['blue', 'steelblue'] \n",
    "\n",
    "# Crear etiquetas personalizadas con valores absolutos y porcentajes\n",
    "def crear_etiqueta(pct, valores):\n",
    "    absoluto = int(pct/100.*sum(valores))\n",
    "    return f'{pct:.2f}%\\n({absoluto:,} llamadas)'\n",
    "\n",
    "# Crear la gráfica circular\n",
    "plt.figure(figsize=(6, 5))\n",
    "plt.pie(valores, labels=etiquetas, autopct=lambda pct: crear_etiqueta(pct, valores),\n",
    "        colors=colores, startangle=90)\n",
    "\n",
    "plt.title('Llamadas Perdidas', \n",
    "          fontsize=14, fontweight='bold')\n",
    "plt.axis('equal')\n",
    "plt.show()"
   ]
  },
  {
   "cell_type": "markdown",
   "id": "6928ecad-262c-41f6-b5fb-2ad89aeff08c",
   "metadata": {},
   "source": [
    "Explorar como se registran las llamadas perdidas por dia de la semana"
   ]
  },
  {
   "cell_type": "code",
   "execution_count": 29,
   "id": "420feda2",
   "metadata": {},
   "outputs": [],
   "source": [
    "dataset['day'] = dataset['date'].dt.weekday"
   ]
  },
  {
   "cell_type": "code",
   "execution_count": 30,
   "id": "47f8469e",
   "metadata": {},
   "outputs": [
    {
     "data": {
      "text/html": [
       "<div>\n",
       "<style scoped>\n",
       "    .dataframe tbody tr th:only-of-type {\n",
       "        vertical-align: middle;\n",
       "    }\n",
       "\n",
       "    .dataframe tbody tr th {\n",
       "        vertical-align: top;\n",
       "    }\n",
       "\n",
       "    .dataframe thead th {\n",
       "        text-align: right;\n",
       "    }\n",
       "</style>\n",
       "<table border=\"1\" class=\"dataframe\">\n",
       "  <thead>\n",
       "    <tr style=\"text-align: right;\">\n",
       "      <th></th>\n",
       "      <th>cnt_missed_true</th>\n",
       "    </tr>\n",
       "    <tr>\n",
       "      <th>day</th>\n",
       "      <th></th>\n",
       "    </tr>\n",
       "  </thead>\n",
       "  <tbody>\n",
       "    <tr>\n",
       "      <th>0</th>\n",
       "      <td>8949</td>\n",
       "    </tr>\n",
       "    <tr>\n",
       "      <th>1</th>\n",
       "      <td>9932</td>\n",
       "    </tr>\n",
       "    <tr>\n",
       "      <th>2</th>\n",
       "      <td>9985</td>\n",
       "    </tr>\n",
       "    <tr>\n",
       "      <th>3</th>\n",
       "      <td>10158</td>\n",
       "    </tr>\n",
       "    <tr>\n",
       "      <th>4</th>\n",
       "      <td>9173</td>\n",
       "    </tr>\n",
       "    <tr>\n",
       "      <th>5</th>\n",
       "      <td>3238</td>\n",
       "    </tr>\n",
       "    <tr>\n",
       "      <th>6</th>\n",
       "      <td>2467</td>\n",
       "    </tr>\n",
       "  </tbody>\n",
       "</table>\n",
       "</div>"
      ],
      "text/plain": [
       "     cnt_missed_true\n",
       "day                 \n",
       "0               8949\n",
       "1               9932\n",
       "2               9985\n",
       "3              10158\n",
       "4               9173\n",
       "5               3238\n",
       "6               2467"
      ]
     },
     "execution_count": 30,
     "metadata": {},
     "output_type": "execute_result"
    }
   ],
   "source": [
    "call_missed_days = dataset.groupby('day').agg({'cnt_missed_true': 'count'})\n",
    "call_missed_days"
   ]
  },
  {
   "cell_type": "code",
   "execution_count": 31,
   "id": "abfba1ee-ed5f-4294-931f-98fa8b8183c5",
   "metadata": {},
   "outputs": [
    {
     "data": {
      "image/png": "[encoded data removed]",
      "text/plain": [
       "<Figure size 600x400 with 1 Axes>"
      ]
     },
     "metadata": {},
     "output_type": "display_data"
    }
   ],
   "source": [
    "# Crear un mapeo de números a nombres de días\n",
    "dias_nombres = {\n",
    "    0: 'Lunes',\n",
    "    1: 'Martes', \n",
    "    2: 'Miércoles',\n",
    "    3: 'Jueves',\n",
    "    4: 'Viernes',\n",
    "    5: 'Sábado',\n",
    "    6: 'Domingo'\n",
    "}\n",
    "\n",
    "# Convertir los índices numéricos a nombres de días\n",
    "call_missed_days_nombres = call_missed_days.copy()\n",
    "call_missed_days_nombres.index = call_missed_days_nombres.index.map(dias_nombres)\n",
    "\n",
    "# Crear la gráfica de barras\n",
    "plt.figure(figsize=(6, 4))\n",
    "plt.bar(call_missed_days_nombres.index, call_missed_days_nombres['cnt_missed_true'], \n",
    "        color='steelblue', alpha=0.7)\n",
    "\n",
    "plt.title('Llamadas Perdidas por Día de la Semana', fontsize=14, fontweight='bold')\n",
    "plt.xlabel('Día de la Semana', fontsize=12)\n",
    "plt.ylabel('Cantidad de Llamadas Perdidas', fontsize=12)\n",
    "plt.xticks(rotation=45)\n",
    "plt.grid(axis='y', alpha=0.3)\n",
    "plt.tight_layout()\n",
    "plt.show()"
   ]
  },
  {
   "cell_type": "markdown",
   "id": "c8542f15-e01c-469f-a018-1aa5c0fa1635",
   "metadata": {},
   "source": [
    "Se pierden mas llamadas entre semana que el fin de semana."
   ]
  },
  {
   "cell_type": "markdown",
   "id": "61573b96",
   "metadata": {},
   "source": [
    "Calcular el promedio de tiempo de espera en llamadas entrantes de cada operador"
   ]
  },
  {
   "cell_type": "code",
   "execution_count": 32,
   "id": "63c4c16e",
   "metadata": {},
   "outputs": [
    {
     "data": {
      "text/plain": [
       "operator_id\n",
       "879896.0    110.671875\n",
       "879898.0    450.087649\n",
       "880020.0     15.181818\n",
       "880022.0     57.565789\n",
       "880026.0    121.171717\n",
       "               ...    \n",
       "972412.0    210.000000\n",
       "972460.0     89.000000\n",
       "973120.0     10.000000\n",
       "973286.0     88.000000\n",
       "nan         167.742291\n",
       "Name: waiting_calls, Length: 1093, dtype: float64"
      ]
     },
     "execution_count": 32,
     "metadata": {},
     "output_type": "execute_result"
    }
   ],
   "source": [
    "# Calcular el promedio de tiempo de espera por operador\n",
    "promedio_tiempoespera = dataset.groupby('operator_id')['waiting_calls'].mean()\n",
    "promedio_tiempoespera"
   ]
  },
  {
   "cell_type": "code",
   "execution_count": 33,
   "id": "56a13c85",
   "metadata": {},
   "outputs": [
    {
     "data": {
      "text/plain": [
       "count    1093.000000\n",
       "mean      215.402544\n",
       "std       504.686399\n",
       "min         0.000000\n",
       "25%        23.058824\n",
       "50%        46.285714\n",
       "75%       157.400000\n",
       "max      5907.443038\n",
       "Name: waiting_calls, dtype: float64"
      ]
     },
     "execution_count": 33,
     "metadata": {},
     "output_type": "execute_result"
    }
   ],
   "source": [
    "promedio_tiempoespera.describe()"
   ]
  },
  {
   "cell_type": "markdown",
   "id": "0fa6d4f1-48ae-4169-91fe-1a9e90b52678",
   "metadata": {},
   "source": [
    "De los 1093 operadores, el promedio de tiempo de espera es de 215 min y una desviacion estandar de 504, un minimo de 0 y un máximo de 5907, esto nos indica una diferencia enorme entre operadores y a su vez que hay valores totalmente extremos. "
   ]
  },
  {
   "cell_type": "code",
   "execution_count": 34,
   "id": "aac9d307-5977-4d66-84af-1093ecc7d223",
   "metadata": {},
   "outputs": [
    {
     "data": {
      "image/png": "[encoded data removed]",
      "text/plain": [
       "<Figure size 1200x600 with 1 Axes>"
      ]
     },
     "metadata": {},
     "output_type": "display_data"
    }
   ],
   "source": [
    "# Histograma básico\n",
    "plt.figure(figsize=(12, 6))\n",
    "plt.hist(promedio_tiempoespera, bins=50, alpha=0.7, edgecolor='black')\n",
    "plt.xlabel('Promedio de Tiempo de Espera')\n",
    "plt.ylabel('Número de registros')\n",
    "plt.title('Distribución del Promedio de Tiempo de Espera por Operador')\n",
    "plt.show()"
   ]
  },
  {
   "cell_type": "markdown",
   "id": "31ca862a-90e5-48f4-97be-a2a8f9b3ed8f",
   "metadata": {},
   "source": [
    "Se obtuvieron poco mas de 700 registros de llamadas con tiempo de espera 0 y de ahi fue aumentando el tiempo, comparado con los 53903 registros que hay, es un porcentaje muy pequeño de tiempo 0 de espera."
   ]
  },
  {
   "cell_type": "code",
   "execution_count": 35,
   "id": "073c8257-6773-4556-82fd-2e479b95d855",
   "metadata": {},
   "outputs": [
    {
     "name": "stdout",
     "output_type": "stream",
     "text": [
      "Operadores únicos: 1093\n",
      "Total de registros: 53902\n",
      "Registros por operador (primeros 10):\n",
      "nan         8172\n",
      "901884.0     348\n",
      "901880.0     337\n",
      "893804.0     325\n",
      "885876.0     319\n",
      "891410.0     290\n",
      "887276.0     289\n",
      "891414.0     277\n",
      "885890.0     277\n",
      "905538.0     269\n",
      "Name: operator_id, dtype: int64\n"
     ]
    }
   ],
   "source": [
    "# Verificar cuántos operadores únicos tienes\n",
    "operadores_unicos = dataset['operator_id'].nunique()\n",
    "print(f\"Operadores únicos: {operadores_unicos}\")\n",
    "\n",
    "# Verificar cuántos registros totales tienes\n",
    "print(f\"Total de registros: {len(dataset)}\")\n",
    "\n",
    "# Ver cuántos registros por operador\n",
    "registros_por_operador = dataset['operator_id'].value_counts()\n",
    "print(f\"Registros por operador (primeros 10):\")\n",
    "print(registros_por_operador.head(10))"
   ]
  },
  {
   "cell_type": "code",
   "execution_count": 36,
   "id": "cd598638-f960-4293-8502-2bead7488a4e",
   "metadata": {},
   "outputs": [
    {
     "name": "stdout",
     "output_type": "stream",
     "text": [
      "Operadores únicos con tiempo 0: 341\n",
      "Porcentaje del total: 31.2%\n"
     ]
    }
   ],
   "source": [
    "# Contar operadores únicos con waiting_calls = 0\n",
    "operadores_unicos_cero = dataset[dataset['waiting_calls'] == 0]['operator_id'].nunique()\n",
    "print(f\"Operadores únicos con tiempo 0: {operadores_unicos_cero}\")\n",
    "print(f\"Porcentaje del total: {operadores_unicos_cero/dataset['operator_id'].nunique()*100:.1f}%\")"
   ]
  },
  {
   "cell_type": "code",
   "execution_count": 37,
   "id": "390faea2-138c-4eeb-98a8-c8c24b2b97a4",
   "metadata": {},
   "outputs": [
    {
     "name": "stdout",
     "output_type": "stream",
     "text": [
      "Operadores con tiempos muy altos (>percentil 50): 546\n",
      "Umbral: 46.29\n"
     ]
    }
   ],
   "source": [
    "# Operadores problemáticos (por encima del percentil 50)\n",
    "percentil_50 = promedio_tiempoespera.quantile(0.50)\n",
    "operadores_problematicos = promedio_tiempoespera[promedio_tiempoespera > percentil_50]\n",
    "\n",
    "print(f\"Operadores con tiempos muy altos (>percentil 50): {len(operadores_problematicos)}\")\n",
    "print(f\"Umbral: {percentil_50:.2f}\")"
   ]
  },
  {
   "cell_type": "markdown",
   "id": "12d3067f-abb8-4295-9ebd-a0e1092e8f6c",
   "metadata": {},
   "source": [
    "Tenemos 546 operadores donde su tiempo de espera supera los 46.29 minutos."
   ]
  },
  {
   "cell_type": "markdown",
   "id": "73dbf898",
   "metadata": {},
   "source": [
    "Calcular el promedio de llamadas salientes externas por operador\n",
    "\n"
   ]
  },
  {
   "cell_type": "code",
   "execution_count": 38,
   "id": "bc8dbb21",
   "metadata": {},
   "outputs": [
    {
     "data": {
      "text/plain": [
       "operator_id\n",
       "879896.0    0.820312\n",
       "879898.0    0.745020\n",
       "880020.0    0.636364\n",
       "880022.0    0.894737\n",
       "880026.0    0.904040\n",
       "              ...   \n",
       "972412.0    0.800000\n",
       "972460.0    0.777778\n",
       "973120.0    1.000000\n",
       "973286.0    0.000000\n",
       "nan         0.024474\n",
       "Name: cnt_direction_out, Length: 1093, dtype: float64"
      ]
     },
     "execution_count": 38,
     "metadata": {},
     "output_type": "execute_result"
    }
   ],
   "source": [
    "promedio_call_out = dataset.groupby('operator_id')['cnt_direction_out'].mean()\n",
    "promedio_call_out"
   ]
  },
  {
   "cell_type": "code",
   "execution_count": 39,
   "id": "217f42d7-3819-4b34-9546-dbb73a382649",
   "metadata": {},
   "outputs": [
    {
     "data": {
      "image/png": "[encoded data removed]",
      "text/plain": [
       "<Figure size 1200x600 with 1 Axes>"
      ]
     },
     "metadata": {},
     "output_type": "display_data"
    }
   ],
   "source": [
    "# Histograma básico\n",
    "plt.figure(figsize=(12, 6))\n",
    "plt.hist(promedio_call_out, bins=50, alpha=0.7, edgecolor='black')\n",
    "plt.xlabel('Promedio de Llamadas salientes')\n",
    "plt.ylabel('Número de registros')\n",
    "plt.title('Distribución del Promedio de Llamadas salientes por Operador')\n",
    "plt.show()"
   ]
  },
  {
   "cell_type": "markdown",
   "id": "5138e570-06d0-4c5f-8d94-c0bf453e8197",
   "metadata": {},
   "source": [
    "Podemos ver dos picos, uno para operadores que hacen llamadas y otros para operadores que no hacen llamadas, y los operadores de enmediohacen llamadas ocasionales. Se puede tratar de que los operadores tienen diferentes roles dentro de la empresa."
   ]
  },
  {
   "cell_type": "code",
   "execution_count": 40,
   "id": "3ed12f5b-b0ea-4145-a4ce-736394214037",
   "metadata": {},
   "outputs": [
    {
     "name": "stdout",
     "output_type": "stream",
     "text": [
      "count    1093.000000\n",
      "mean        0.623809\n",
      "std         0.375996\n",
      "min         0.000000\n",
      "25%         0.333333\n",
      "50%         0.709677\n",
      "75%         1.000000\n",
      "max         1.000000\n",
      "Name: cnt_direction_out, dtype: float64\n",
      "Total de registros: 53902\n"
     ]
    }
   ],
   "source": [
    "print(promedio_call_out.describe())\n",
    "# Verificar cuántos registros totales tienes\n",
    "print(f\"Total de registros: {len(dataset)}\")"
   ]
  },
  {
   "cell_type": "markdown",
   "id": "2d25429f-06bf-4220-8de8-5d502eb92519",
   "metadata": {},
   "source": [
    "Tenemos 1093 operadores telefonicos y cada unos hace un promedio de 0.62 llamada por registro (53902 registros totales). tenemos operadores que siempre hacen llamadas (max 1) y operadores que nunca hacen llamadas (min 0). el 50% de los operadores hacen en promedio 0.71 llamadas."
   ]
  },
  {
   "cell_type": "code",
   "execution_count": 41,
   "id": "6ce64cf4-54c6-46ea-9c3e-d85038e3634a",
   "metadata": {},
   "outputs": [
    {
     "name": "stdout",
     "output_type": "stream",
     "text": [
      "Operadores que nunca hacen llamadas: 210\n"
     ]
    }
   ],
   "source": [
    "operadores_sin_llamadas = (promedio_call_out == 0.0).sum()\n",
    "print(f\"Operadores que nunca hacen llamadas: {operadores_sin_llamadas}\")"
   ]
  },
  {
   "cell_type": "code",
   "execution_count": 42,
   "id": "6becefff-1aeb-41dd-9f00-86e19ab976ea",
   "metadata": {},
   "outputs": [
    {
     "name": "stdout",
     "output_type": "stream",
     "text": [
      "Operadores que siempre hacen llamadas salientes: 338\n"
     ]
    }
   ],
   "source": [
    "operadores_siempre_llaman = (promedio_call_out == 1.0).sum()\n",
    "print(f\"Operadores que siempre hacen llamadas salientes: {operadores_siempre_llaman}\")"
   ]
  },
  {
   "cell_type": "code",
   "execution_count": 43,
   "id": "5d32bce3-747f-4d9f-8998-da7e868a29a6",
   "metadata": {},
   "outputs": [
    {
     "name": "stdout",
     "output_type": "stream",
     "text": [
      "Registros CON operator_id: 45730\n",
      "Registros SIN operator_id: 8172\n",
      "Porcentaje con ID: 84.8%\n",
      "Porcentaje sin ID: 15.2%\n"
     ]
    }
   ],
   "source": [
    "# Filtrar y crear dos grupos para operadores\n",
    "grupo_con_operador = dataset[dataset['operator_id'] != 'nan']\n",
    "grupo_sin_operador = dataset[dataset['operator_id'] == 'nan']\n",
    "\n",
    "print(f\"Registros CON operator_id: {len(grupo_con_operador)}\")\n",
    "print(f\"Registros SIN operator_id: {len(grupo_sin_operador)}\")\n",
    "print(f\"Porcentaje con ID: {len(grupo_con_operador)/len(dataset)*100:.1f}%\")\n",
    "print(f\"Porcentaje sin ID: {len(grupo_sin_operador)/len(dataset)*100:.1f}%\")"
   ]
  },
  {
   "cell_type": "code",
   "execution_count": 44,
   "id": "3fcbf684-7ff0-40fd-bbf4-74a0884cc42b",
   "metadata": {},
   "outputs": [
    {
     "name": "stdout",
     "output_type": "stream",
     "text": [
      "Total registros con operador: 45730\n",
      "Registros de llamadas salientes: 31717\n",
      "Porcentaje de llamadas salientes: 69.4%\n"
     ]
    }
   ],
   "source": [
    "# Segundo filtro: Solo llamadas salientes (direction = 'out')\n",
    "llamadas_salientes = grupo_con_operador[grupo_con_operador['direction'] == 'out']\n",
    "\n",
    "print(f\"Total registros con operador: {len(grupo_con_operador)}\")\n",
    "print(f\"Registros de llamadas salientes: {len(llamadas_salientes)}\")\n",
    "print(f\"Porcentaje de llamadas salientes: {len(llamadas_salientes)/len(grupo_con_operador)*100:.1f}%\")"
   ]
  },
  {
   "cell_type": "code",
   "execution_count": 45,
   "id": "1532f430-e668-4c3a-921d-96859aff5d7a",
   "metadata": {},
   "outputs": [
    {
     "name": "stdout",
     "output_type": "stream",
     "text": [
      "Operadores únicos totales: 1092\n",
      "Operadores que hacen llamadas salientes: 882\n"
     ]
    }
   ],
   "source": [
    "# Ver cuántos operadores únicos hay en cada grupo\n",
    "operadores_totales = grupo_con_operador['operator_id'].nunique()\n",
    "operadores_con_salientes = llamadas_salientes['operator_id'].nunique()\n",
    "\n",
    "print(f\"Operadores únicos totales: {operadores_totales}\")\n",
    "print(f\"Operadores que hacen llamadas salientes: {operadores_con_salientes}\")"
   ]
  },
  {
   "cell_type": "markdown",
   "id": "0ff697ac-3ad1-4ae7-af60-cbb5865ba915",
   "metadata": {},
   "source": [
    "Al parecer estos 210 operadores que no hacen llamadas podrían estar enfocados en solo recibir."
   ]
  },
  {
   "cell_type": "code",
   "execution_count": 46,
   "id": "005a9312-5696-442c-8fa7-8aebc40c70d8",
   "metadata": {},
   "outputs": [
    {
     "name": "stdout",
     "output_type": "stream",
     "text": [
      "Operadores que reciben llamadas entrantes: 754\n",
      "Operadores que hacen ambos tipos: 544\n"
     ]
    }
   ],
   "source": [
    "# Verificar operadores que SOLO reciben llamadas entrantes\n",
    "llamadas_entrantes = grupo_con_operador[grupo_con_operador['direction'] == 'in']\n",
    "operadores_solo_entrantes = llamadas_entrantes['operator_id'].nunique()\n",
    "\n",
    "print(f\"Operadores que reciben llamadas entrantes: {operadores_solo_entrantes}\")\n",
    "\n",
    "# Ver si hay operadores que hacen AMBOS tipos de llamadas\n",
    "operadores_mixtos = len(set(grupo_con_operador['operator_id']) & \n",
    "                         set(llamadas_salientes['operator_id']) & \n",
    "                         set(llamadas_entrantes['operator_id']))\n",
    "print(f\"Operadores que hacen ambos tipos: {operadores_mixtos}\")"
   ]
  },
  {
   "cell_type": "markdown",
   "id": "ab10e513-b2d9-40cd-9f42-ed36e045140c",
   "metadata": {},
   "source": [
    "NOTA: Me enfocare en los 544 operadores que hacen y reciben llamadas para eliminar a los que posiblemente se dedican a atencion al cliente y a cobranza/ventas."
   ]
  },
  {
   "cell_type": "markdown",
   "id": "065ea8b4-b8f5-437e-b111-6f5c50bdf13e",
   "metadata": {},
   "source": [
    "<div class=\"alert alert-block alert-success\">\n",
    "<b>Comentario del revisor (1ra Iteracion)</b> <a class=“tocSkip”></a>\n",
    "\n",
    "Muy bien hecho el análisis de cada gráfica, esto deja un proceso de análisis súper claro y se comunica muy bien el mensaje a transmitir con las gráficas.\n",
    "</div>"
   ]
  },
  {
   "cell_type": "markdown",
   "id": "3db69480-f5bd-4da3-82ac-ef86bbf44e29",
   "metadata": {},
   "source": [
    "### Prueba de hipótesis"
   ]
  },
  {
   "cell_type": "markdown",
   "id": "3a942d35-0c04-4abc-bee8-81c39df910de",
   "metadata": {},
   "source": [
    "H0: No hay diferencia significativa en el promedio de llamadas perdidas entre operadores mixtos que están por encima vs por debajo de la media general.\n",
    "\n",
    "H1: Sí hay diferencia significativa en el promedio de llamadas perdidas entre estos dos grupos."
   ]
  },
  {
   "cell_type": "code",
   "execution_count": 47,
   "id": "03b8dc83-e789-487d-8d3e-fa08729bb33d",
   "metadata": {},
   "outputs": [
    {
     "data": {
      "text/plain": [
       "0.3299951218112428"
      ]
     },
     "execution_count": 47,
     "metadata": {},
     "output_type": "execute_result"
    }
   ],
   "source": [
    "# Obtener IDs de operadores mixtos\n",
    "ids_mixtos = set(llamadas_entrantes['operator_id']) & set(llamadas_salientes['operator_id'])\n",
    "\n",
    "# Crear DataFrame de operadores mixtos\n",
    "df_ops_mixtos = grupo_con_operador[grupo_con_operador['operator_id'].isin(ids_mixtos)]\n",
    "\n",
    "# Calcular estadísticas\n",
    "df_ops_mixtos['cnt_missed_true'].mean()"
   ]
  },
  {
   "cell_type": "code",
   "execution_count": 48,
   "id": "b57f3600-5f35-4358-abb2-283dda721b06",
   "metadata": {},
   "outputs": [
    {
     "data": {
      "text/plain": [
       "count    34849.000000\n",
       "mean         0.329995\n",
       "std          0.470218\n",
       "min          0.000000\n",
       "25%          0.000000\n",
       "50%          0.000000\n",
       "75%          1.000000\n",
       "max          1.000000\n",
       "Name: cnt_missed_true, dtype: float64"
      ]
     },
     "execution_count": 48,
     "metadata": {},
     "output_type": "execute_result"
    }
   ],
   "source": [
    "df_ops_mixtos['cnt_missed_true'].describe()"
   ]
  },
  {
   "cell_type": "markdown",
   "id": "af26d0ca-920f-4350-a80f-929979d33267",
   "metadata": {},
   "source": [
    "El promedio de llamadas perdidas es del 32.99%, será nuestro valor de referencia."
   ]
  },
  {
   "cell_type": "code",
   "execution_count": 49,
   "id": "94622cf3-9856-43be-a441-aee52fe4dd08",
   "metadata": {},
   "outputs": [
    {
     "name": "stdout",
     "output_type": "stream",
     "text": [
      "  operator_id  cnt_missed_true\n",
      "0    879896.0         0.390625\n",
      "1    879898.0         0.398406\n",
      "2    880020.0         0.318182\n",
      "3    880022.0         0.434211\n",
      "4    880026.0         0.474747\n",
      "Total de operadores: 544\n"
     ]
    }
   ],
   "source": [
    "# Calcular el porcentaje de llamadas perdidas por operador\n",
    "operadores_stats = df_ops_mixtos.groupby('operator_id').agg({\n",
    "    'cnt_missed_true': 'mean'  # Promedio de llamadas perdidas por operador\n",
    "}).reset_index()\n",
    "\n",
    "# Ver los primeros resultados\n",
    "print(operadores_stats.head())\n",
    "print(f\"Total de operadores: {len(operadores_stats)}\")"
   ]
  },
  {
   "cell_type": "code",
   "execution_count": 50,
   "id": "fdfea207-35b3-4661-8743-b3441dddd725",
   "metadata": {},
   "outputs": [
    {
     "name": "stdout",
     "output_type": "stream",
     "text": [
      "Operadores con >32% llamadas perdidas: 288\n",
      "Operadores con ≤32% llamadas perdidas: 256\n"
     ]
    }
   ],
   "source": [
    "# Separar operadores en dos grupos\n",
    "grupo_alto = operadores_stats[operadores_stats['cnt_missed_true'] > 0.32]\n",
    "grupo_bajo = operadores_stats[operadores_stats['cnt_missed_true'] <= 0.32]\n",
    "\n",
    "print(f\"Operadores con >32% llamadas perdidas: {len(grupo_alto)}\")\n",
    "print(f\"Operadores con ≤32% llamadas perdidas: {len(grupo_bajo)}\")"
   ]
  },
  {
   "cell_type": "markdown",
   "id": "c1fefded-7ed7-4532-9b21-28cc90966abb",
   "metadata": {},
   "source": [
    "H0: No hay diferencia significativa en las llamadas perdidas entre operadores mixtos que están por encima del 32% vs los operadores que estan por debajo del 32%.\n",
    "\n",
    "H1: Sí hay diferencia significativa en las llamadas perdidas entre operadores mixtos que están por encima del 32% vs los operadores que estan por debajo del 32%."
   ]
  },
  {
   "cell_type": "code",
   "execution_count": 51,
   "id": "cc4b216a-4e4e-4863-a9a4-498ef30145db",
   "metadata": {},
   "outputs": [
    {
     "name": "stdout",
     "output_type": "stream",
     "text": [
      "Estadístico U: 73728.0\n",
      "Valor p: 2.7849075827387667e-90\n",
      "Rechazamos hipótesis nula\n"
     ]
    }
   ],
   "source": [
    "# Los valores de llamadas perdidas para cada grupo\n",
    "valores_grupo_alto = grupo_alto['cnt_missed_true']\n",
    "valores_grupo_bajo = grupo_bajo['cnt_missed_true']\n",
    "alpha = 0.05\n",
    "\n",
    "# Ejecutar la prueba de dos colas\n",
    "statistic, p_value = mannwhitneyu(valores_grupo_alto, valores_grupo_bajo, alternative='two-sided')\n",
    "\n",
    "print(f\"Estadístico U: {statistic}\")\n",
    "print(f\"Valor p: {p_value}\")\n",
    "\n",
    "if p_value < 0.05:\n",
    "    print(\"Rechazamos hipótesis nula\")\n",
    "else:\n",
    "    print(\"No podemos rechazar hipótesis nula\")"
   ]
  },
  {
   "cell_type": "code",
   "execution_count": 52,
   "id": "b824c513-78a1-42c7-9764-feb9b97bd0c0",
   "metadata": {},
   "outputs": [
    {
     "name": "stdout",
     "output_type": "stream",
     "text": [
      "\n",
      "Estadísticas descriptivas:\n",
      "Grupo alto (>32%) - Mediana: 0.3867\n",
      "Grupo bajo (≤32%) - Mediana: 0.2324\n"
     ]
    }
   ],
   "source": [
    "print(f\"\\nEstadísticas descriptivas:\")\n",
    "print(f\"Grupo alto (>32%) - Mediana: {valores_grupo_alto.median():.4f}\")\n",
    "print(f\"Grupo bajo (≤32%) - Mediana: {valores_grupo_bajo.median():.4f}\")"
   ]
  },
  {
   "cell_type": "markdown",
   "id": "a136f534-a10f-41a9-98a6-ee6f3f5e7eb6",
   "metadata": {},
   "source": [
    "<div class=\"alert alert-block alert-success\">\n",
    "<b>Comentario del revisor (1ra Iteracion)</b> <a class=“tocSkip”></a>\n",
    "\n",
    "Correcto, siempre se debe realizar pruebas estadísticas para determinar si las diferencias observadas son significativas y no se está sesgando el análisis\n",
    "</div>"
   ]
  },
  {
   "cell_type": "markdown",
   "id": "36c81ce3-66b5-470a-98a4-54d17bb4e37c",
   "metadata": {},
   "source": [
    "## Conclusión"
   ]
  },
  {
   "cell_type": "markdown",
   "id": "31fa536b-a90e-469e-b0ff-2119fedda108",
   "metadata": {},
   "source": [
    "Se decidio trabajar la variable de llamadas perdidas, ya que puede reflejar tambien el problema del alto porcentaje de tiempo de espera (el promedio de tiempo de espera es de 215 min y una desviacion estandar de 504, un minimo de 0 y un máximo de 5907, esto nos indica una diferencia enorme entre operadores y a su vez que hay valores totalmente extremos.), ya que clientes que no esperaron, se finaliza como llamada perdida. Tambien se hizo un filtrado de operadores, se filtraron las llamadas que no fueron asignadas a ningun operador, a los operadores que solo reciben y a los que solo hacen llamadas por la probabilidad de que tienen un rol específico como cobranza/ ventas / atencion al cliente. Se limito a analizar a 544 operadores que reciben y hacen llamadas, nombrados operadores mixtos. El promedio de llamadas perdidas entre estos operadores es del 32%.\n",
    "\n",
    "El planteamiento fue que, sí había diferencias significativa en las llamadas perdidas entre operadores mixtos que están por encima del 32% vs los operadores que estan por debajo del 32% y el resultado fue que si hay una diferencia estadísticamente significativa Estadístico U: 73728.0, Valor p: 2.7849075827387667e-90 (muy pequeño). \n",
    "\n",
    "Posteriormente se comparo la media vs la mediana para explicarlo con estadística descriptiva y se observo que los operadores mixtos que superan el umbral del 32% de llamadas perdidas tienen una mediana de 38.67%, mientras que los que están por debajo tienen una mediana de 23.24%. Esta diferencia de 15.43 puntos porcentuales es estadísticamente significativa.\n",
    "\n",
    "Conclusión: Los dos grupos de operadores tienen comportamientos claramente diferentes en cuanto a llamadas perdidas, confirmando que el umbral del 32% efectivamente separa operadores con diferentes niveles de desempeño."
   ]
  },
  {
   "cell_type": "markdown",
   "id": "1065d2cd-6a02-47fe-86c1-0af6144d6e3e",
   "metadata": {},
   "source": [
    "### Fuentes"
   ]
  },
  {
   "cell_type": "markdown",
   "id": "82b2fe9c-a081-42bb-ba89-1851ec12232a",
   "metadata": {},
   "source": [
    "https://vertical-iberica.com/metricas-para-analizar-llamadas-y-mejorar-la-atencion-al-cliente-en-call-center/?srsltid=AfmBOorRVKDuSSAMYu7v0fkj_gJUTXVZ2Pl8r_1jskkDkFsioKEax76M"
   ]
  },
  {
   "cell_type": "markdown",
   "id": "8c7666a7-087d-4a6a-a819-383c25c8a058",
   "metadata": {},
   "source": [
    "https://driv.in/blog/escala-de-satisfaccion-cliente-kpi?utm_term=&utm_campaign=S-BLOG&utm_source=adwords&utm_medium=ppc&hsa_acc=8759955348&hsa_cam=20984547581&hsa_grp=158914013432&hsa_ad=689430318160&hsa_src=g&hsa_tgt=dsa-2059257533185&hsa_kw=&hsa_mt=&hsa_net=adwords&hsa_ver=3&gad_source=1&gad_campaignid=20984547581&gbraid=0AAAAADKmmJkv8zc-gVoqUeSEIlC7qhmzm&gclid=CjwKCAjwz5nGBhBBEiwA-W6XRG9f-TKZyC9SSPocpO1nBwiHWAsM4grETjtsDQQfQDPXDY_M4aJsWxoCUHEQAvD_BwE"
   ]
  },
  {
   "cell_type": "markdown",
   "id": "d9733177-271d-475b-8610-2a70b8832df2",
   "metadata": {},
   "source": [
    "https://www.zendesk.com.mx/blog/que-es-call-center/"
   ]
  },
  {
   "cell_type": "markdown",
   "id": "ba420f2f-0751-48b2-884e-7d591d23be68",
   "metadata": {},
   "source": [
    "https://www.salesforce.com/mx/blog/que-es-un-call-center/"
   ]
  },
  {
   "cell_type": "markdown",
   "id": "a3a4ca73-7423-480d-8ef8-2a9b257ee1e6",
   "metadata": {},
   "source": [
    "## PRESENTACION PDF"
   ]
  },
  {
   "cell_type": "markdown",
   "id": "4b403106-a8d3-4c06-a77b-3146c22dc94b",
   "metadata": {},
   "source": [
    "https://drive.google.com/file/d/17y0yY_ydVXjz4lvT73OYMd2Wrj9qQ9Gc/view?usp=sharing"
   ]
  },
  {
   "cell_type": "markdown",
   "id": "0c81a2a2-d386-4bcb-840a-57d11944501e",
   "metadata": {},
   "source": [
    "<div class=\"alert alert-block alert-danger\">\n",
    "<b>Comentario del revisor (1ra Iteracion)</b> <a class=“tocSkip”></a>\n",
    "\n",
    "Tienes un muy buen proyecto Carmen! Lo único por lo que regreso el mismo es porque necesito revisar la presentación realizada sobre el mismo y tu link no está configurado correctamente ya que no puedo acceder.\n",
    "\n",
    "En la parte de compartir procura siempre dejar la opción de \"Cualquiera con link\" y para verificarlo puedes abrir el link en una ventana de tu navegador en modo incógnito para comprobar que se puede ver el contenido.\n",
    "\n",
    "Saludos!\n",
    "</div>"
   ]
  },
  {
   "cell_type": "markdown",
   "id": "8a63dfae-2078-41d9-82ad-25b9adc3c2d0",
   "metadata": {},
   "source": [
    "<div class=\"alert alert-block alert-info\">\n",
    "<b>Respuesta del estudiante</b> <a class=“tocSkip”></a>\n",
    "Una disculpa, ya lo cambie a opción \"Cualquiera con link\", gracias.\n",
    "</div>"
   ]
  },
  {
   "cell_type": "markdown",
   "id": "90e1f8e8-3509-4a65-947c-b040cea93277",
   "metadata": {},
   "source": [
    "<div class=\"alert alert-block alert-success\">\n",
    "<b>Comentario general (2da Iteracion)</b> <a class=“tocSkip”></a>\n",
    "\n",
    "**¡Te felicito por el trabajo realizado Carmen!** Con este proyecto demuestras las habilidades adquiridas durante tu formación, se nota tu capacidad de contar historias con datos con la excelente presentación realizada que súper fácil de entender lo cual es una habilidad super importante cómo analista de datos, el saber comunicar de manera sencilla y eficiente los resultados de tus análisis.\n",
    "    \n",
    "Se nota mucho el manejo que tienes de las librerías para crear visualizaciones muy buenas que explican correctamente las variables analizadas, te animo a seguir práctica con otros recursos y que vayas construyendo un portafolio de proyectos súper robusto para que seas Data Analyst de primera en el mundo laboral.\n",
    "   \n",
    "Saludos!\n",
    "</div>"
   ]
  }
 ],
 "metadata": {
  "kernelspec": {
   "display_name": "Python 3 (ipykernel)",
   "language": "python",
   "name": "python3"
  },
  "language_info": {
   "codemirror_mode": {
    "name": "ipython",
    "version": 3
   },
   "file_extension": ".py",
   "mimetype": "text/x-python",
   "name": "python",
   "nbconvert_exporter": "python",
   "pygments_lexer": "ipython3",
   "version": "3.9.23"
  }
 },
 "nbformat": 4,
 "nbformat_minor": 5
}
